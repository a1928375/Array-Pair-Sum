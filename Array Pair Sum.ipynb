{
 "cells": [
  {
   "cell_type": "markdown",
   "metadata": {},
   "source": [
    "# Mine\n",
    "# O(n^2):  因為2 loops"
   ]
  },
  {
   "cell_type": "code",
   "execution_count": 8,
   "metadata": {},
   "outputs": [
    {
     "name": "stdout",
     "output_type": "stream",
     "text": [
      "[1, 9]\n",
      "[8, 2]\n",
      "[4, 6]\n",
      "[5, 5]\n",
      "[11, -1]\n",
      "[3, 7]\n",
      "6\n",
      "[1, 2]\n",
      "1\n",
      "[1, 3]\n",
      "[2, 2]\n",
      "2\n",
      "[1, 9]\n",
      "[8, 2]\n",
      "[4, 6]\n",
      "[5, 5]\n",
      "[11, -1]\n",
      "[3, 7]\n",
      "[1, 2]\n",
      "[1, 3]\n",
      "[2, 2]\n",
      "ALL TEST CASES PASSED\n"
     ]
    }
   ],
   "source": [
    "def pair_sum(arr,k):\n",
    "    j=0\n",
    "    #h=[]\n",
    "\n",
    "    while k-arr[0] in arr:    \n",
    "        for i in arr:\n",
    "            if k-i in arr:\n",
    "                j=j+1\n",
    "                h=[i,k-i]\n",
    "                print (h)\n",
    "                arr.remove(i)\n",
    "                arr.remove(k-i)\n",
    "                h=[]\n",
    "            \n",
    "        if len(arr) == 0:\n",
    "            break\n",
    "\n",
    "    return j         \n",
    "        \n",
    "print (pair_sum([1,9,2,8,3,7,4,6,5,5,13,14,11,13,-1],10))\n",
    "print (pair_sum([1,2,3,1],3))\n",
    "print (pair_sum([1,3,2,2],4))\n",
    "\n",
    "#%timeit pair_sum([1,9,2,8,3,7,4,6,5,5,13,14,11,13,-1],10)"
   ]
  },
  {
   "cell_type": "markdown",
   "metadata": {},
   "source": [
    "# Instructor \n",
    "# O(n): 1 loop\n",
    "# preferred solution: interview都會用 seen = set() & output = set()"
   ]
  },
  {
   "cell_type": "code",
   "execution_count": 6,
   "metadata": {},
   "outputs": [
    {
     "name": "stdout",
     "output_type": "stream",
     "text": [
      "6\n",
      "1\n",
      "2\n"
     ]
    }
   ],
   "source": [
    "def pair_sum(arr,k):\n",
    "    \n",
    "    if len(arr)<2:\n",
    "        return\n",
    "\n",
    "    seen = set()\n",
    "    output = set()\n",
    "    \n",
    "    for num in arr:\n",
    "        \n",
    "        target = k-num\n",
    "        \n",
    "        if target not in seen:\n",
    "            seen.add(num)\n",
    "        \n",
    "        else:\n",
    "            output.add( (min(num,target),  max(num,target)) )\n",
    "    \n",
    "    \n",
    "    return len(output)\n",
    "    \n",
    "print (pair_sum([1,9,2,8,3,7,4,6,5,5,13,14,11,13,-1],10))\n",
    "print (pair_sum([1,2,3,1],3))\n",
    "print (pair_sum([1,3,2,2],4))\n",
    "\n",
    "#%timeit pair_sum([1,9,2,8,3,7,4,6,5,5,13,14,11,13,-1],10)"
   ]
  },
  {
   "cell_type": "markdown",
   "metadata": {},
   "source": [
    "# PS"
   ]
  },
  {
   "cell_type": "code",
   "execution_count": null,
   "metadata": {},
   "outputs": [],
   "source": [
    "# From my understanding the time complexity is O(N^2) for your code, so if you give this solution \n",
    "# the interviewer may ask you to code it more efficiently or perhaps even reject you (in worst case)...\n",
    "# Also if you have not identified this as O(N^2) during the interview then that is a huge red flag as \n",
    "# majority of the companies ask you the time and space complexity after you have finished coding."
   ]
  }
 ],
 "metadata": {
  "kernelspec": {
   "display_name": "Python 3",
   "language": "python",
   "name": "python3"
  },
  "language_info": {
   "codemirror_mode": {
    "name": "ipython",
    "version": 3
   },
   "file_extension": ".py",
   "mimetype": "text/x-python",
   "name": "python",
   "nbconvert_exporter": "python",
   "pygments_lexer": "ipython3",
   "version": "3.7.3"
  }
 },
 "nbformat": 4,
 "nbformat_minor": 2
}
